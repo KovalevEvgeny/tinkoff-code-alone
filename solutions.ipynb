{
 "cells": [
  {
   "cell_type": "markdown",
   "id": "e89fcc15-bfa7-427d-bf00-21ec027fa883",
   "metadata": {},
   "source": [
    "# Day 1, Task 1"
   ]
  },
  {
   "cell_type": "markdown",
   "id": "33b7ef6d-de02-4311-a722-9bb3dd0d4f4a",
   "metadata": {},
   "source": [
    "Сегодня утром был скачок напряжения и дома вырубило все электричество. У меня осталось всего 3% заряда на телефоне, надо все срочно включить, а то мы с тобой потеряем связь — и я пропал ((\n",
    "\n",
    "Щиток находится в подвале, сейчас пойду туда и сфоткаю тебе как он выглядит.\n",
    "\n",
    "Так, вот как работает щиток. В щитке 61429526 переключателей вверх и 61430729 переключателей вниз. Я помню, что для включения щитка нужно включить все переключатели: либо все вверх, либо все вниз. Но я не помню, вверх или вниз.\n",
    "\n",
    "Нам остается только выяснить, какое из двух положений правильное, и просто прощелкать все опытным путем. Но я переживаю, что это будет долго. Можешь посчитать, какого минимального количества щелчков мне гарантированно хватит, чтобы понять?"
   ]
  },
  {
   "cell_type": "code",
   "execution_count": 1,
   "id": "dab5a1c8-17e9-4ae3-8a02-04876ab08129",
   "metadata": {},
   "outputs": [
    {
     "name": "stdout",
     "output_type": "stream",
     "text": [
      "184289781\n"
     ]
    }
   ],
   "source": [
    "a = 61429526\n",
    "b = 61430729\n",
    "result = min(a, b) + a + b\n",
    "print(result)"
   ]
  },
  {
   "cell_type": "markdown",
   "id": "4cc0518f-775f-4758-b21f-5860beeb2a36",
   "metadata": {},
   "source": [
    "# Day 1, Task 2"
   ]
  },
  {
   "cell_type": "markdown",
   "id": "1f812d54-fc77-4e80-984d-85d2ff4ce0a0",
   "metadata": {},
   "source": [
    "Я нашел кучу старых манекенов с папиной работы и накидал быстро схему, как их расставить. Мы можем сделать так, чтобы они двигались: взять несколько машинок на пульте управления и прикрепить к ним манекены. Ты можешь заставить их двигаться?\n",
    "\n",
    "Мне нужно, чтобы две машинки двигались туда-сюда вдоль окна. Одна машинка будет ехать от левого края окна, доезжать до определенной точки и разворачиваться обратно, а вторая — делать то же самое, но от правого края окна. Важно, чтобы процесс повторялся для каждой машинки независимо.\n",
    "\n",
    "Можешь помочь рассчитать, через сколько времени после запуска машинки одновременно окажутся у края окна? Длина окна 945747, а координата точки, куда доезжает машинка, — 130713"
   ]
  },
  {
   "cell_type": "code",
   "execution_count": 2,
   "id": "5e061085-ab62-4521-8eb7-6ef41916375d",
   "metadata": {},
   "outputs": [
    {
     "name": "stdout",
     "output_type": "stream",
     "text": [
      "27711156\n"
     ]
    }
   ],
   "source": [
    "width = 945747\n",
    "coord = 130713\n",
    "left_time = coord * 2\n",
    "right_time = (width - coord) * 2\n",
    "\n",
    "def max_common_divisor(a, b):\n",
    "    temp = 0\n",
    "    while b != 0:\n",
    "        temp = b\n",
    "        b = a % b\n",
    "        a = temp\n",
    "    return a\n",
    "\n",
    "\n",
    "def min_common_divisor(a, b):\n",
    "    return (a * b) / max_common_divisor(a, b)\n",
    "\n",
    "result = int(min_common_divisor(right_time, left_time))\n",
    "print(result)"
   ]
  },
  {
   "cell_type": "markdown",
   "id": "770aad0f-1e16-42e1-bc1b-a6a1d80e7198",
   "metadata": {},
   "source": [
    "# Day 2, Task 1"
   ]
  },
  {
   "cell_type": "markdown",
   "id": "4a350916-901c-4929-89a9-350078feba8c",
   "metadata": {},
   "source": [
    "Забыл сказать. Мой папа повернут на умных устройствах, поэтому их полно дома. Единственное, он все заблокировал перед отъездом, ты сможешь помочь мне их взломать?\n",
    "\n",
    "Папа немного контрол-фрик, у него отдельный пароль на каждое устройство.\n",
    "\n",
    "Я уверен, что они пойдут от подвала — входную дверь слишком сложно взломать. Мне кажется, нам надо залить лестницу водой, надо только найти, где взять воду.\n",
    "\n",
    "Да, стиралка должна быть подключена, но папа отключил весь водопровод! Сейчас дам тебе доступ, можешь разблокировать?\n",
    "\n",
    "Смотри, ручка для включения расположена очень высоко, я не дотягиваюсь. Но есть вариант связать из веревочек лассо, я накину его на ручку. Ручка находится на высоте 1000000000, а у меня есть 100000 веревочек разной длины. Времени у нас мало, надо получить веревку длиной не меньше чем 1000000000, сделав минимальное количество узлов (то есть использовав минимальное количество веревок). Сейчас скину, какой длины у меня есть веревочки."
   ]
  },
  {
   "cell_type": "code",
   "execution_count": 3,
   "id": "e771e749-396a-4dcc-8580-35641e929456",
   "metadata": {},
   "outputs": [
    {
     "name": "stdout",
     "output_type": "stream",
     "text": [
      "10568\n"
     ]
    }
   ],
   "source": [
    "with open('advent_3.test', 'r') as f:\n",
    "    data = f.read()\n",
    "data = data.split('\\n')\n",
    "N, H = [int(x) for x in data[0].split()]\n",
    "N_list = sorted([int(x) for x in data[1].split()], reverse=True)\n",
    "cnt = 0\n",
    "i = 0\n",
    "x_sum = N_list[i]\n",
    "while x_sum < H:\n",
    "    i += 1\n",
    "    x_sum += N_list[i]\n",
    "    cnt += 1\n",
    "print(cnt)"
   ]
  },
  {
   "cell_type": "markdown",
   "id": "8d818065-0761-407e-a266-707b333a11fe",
   "metadata": {},
   "source": [
    "# Day 3, Task 1"
   ]
  },
  {
   "cell_type": "markdown",
   "id": "94dd91a7-6014-4943-949c-d198f51a1af0",
   "metadata": {},
   "source": [
    "Посмотри, вот тут есть балка прямо над входом. Я думаю если расставить на ней банки с краской и привязать к ним веревку, а веревку к вентилятору на потолке, то при включении вентилятора краска польется прямо на них 👺\n",
    "\n",
    "Я слышу какой-то шум!! Взламывают дверь сюда! Думаю, справятся с дверью минут за 30. Я пока расставлю банки, можешь помочь взломать систему умного дома и сделать так, чтобы при открытии двери сработал вентилятор??\n",
    "\n",
    "У вентилятора разные длины лопастей. Всего 212850 лопастей, длины равны l_i. Пароль от вентилятора — количество различных положений, которые вентилятор может принять, поворачиваясь на 360 / 212850 × i градуcов. Два положения считаются одинаковыми, если после перенумеровки последовательность длин лопастей совпадает с исходной.\n",
    "\n",
    "Сейчас скину тебе файл: в строке через пробел 212850 чисел — длина каждой лопасти."
   ]
  },
  {
   "cell_type": "code",
   "execution_count": 4,
   "id": "e9417bf0-9dfd-45ab-8a33-62ff7769b794",
   "metadata": {},
   "outputs": [
    {
     "name": "stdout",
     "output_type": "stream",
     "text": [
      "4257\n"
     ]
    }
   ],
   "source": [
    "with open('advent_4.test.txt', 'r') as f:\n",
    "    data = f.read()\n",
    "data = data.split('\\n')\n",
    "n = int(data[0])\n",
    "ventilator = [int(x) for x in data[1].split()]\n",
    "if len(set(ventilator)) == 1:\n",
    "    result = 1\n",
    "else:\n",
    "    results_possible = set(list(range(1, len(ventilator))))\n",
    "    for i in range(len(ventilator)):\n",
    "        to_delete = set([])\n",
    "        for delta in results_possible:\n",
    "            idx_delta = (i + delta) % n\n",
    "            if ventilator[i] != ventilator[idx_delta]:\n",
    "                to_delete.add(delta)\n",
    "        results_possible -= to_delete\n",
    "    if len(results_possible) == 0:\n",
    "        result = 1\n",
    "    else:\n",
    "        result = min(results_possible)\n",
    "print(result)"
   ]
  },
  {
   "cell_type": "markdown",
   "id": "df2e874e-34e1-4bf9-800e-26e780cc5133",
   "metadata": {},
   "source": [
    "# Day 3, Task 2"
   ]
  },
  {
   "cell_type": "markdown",
   "id": "7fcee84d-1dde-4799-b570-7acfa9e6187a",
   "metadata": {},
   "source": [
    "Нет времени! Кажется, дверь открывается, система дала сбой. Придется как-то их задержать.\n",
    "\n",
    "Понимаю, что это дополнительная задачка для тебя. На сегодня последняя. Сможешь мне помочь, пожалуйста?\n",
    "\n",
    "Папа написал код от замка на бумажке рядом со шкафом, но кто-то пролил на запись чай. Некоторые цифры неразборчивые, не могу понять, что там: похоже на несколько цифр сразу. Перебрать все варианты мы не успеем, но есть идея попробовать 5-е по возрастанию значение кода, потому что 5 — это любимое число папы.\n",
    "\n",
    "В общем, у нас есть 5 чисел на бумажке. Вот, в файле (если неразборчиво, то пишу что вижу). Напиши 5-е по возрастанию значение кода, думаю, сработает"
   ]
  },
  {
   "cell_type": "code",
   "execution_count": 5,
   "id": "816c6536-6f7f-4ecf-bb23-7453f25e4023",
   "metadata": {},
   "outputs": [
    {
     "name": "stdout",
     "output_type": "stream",
     "text": [
      "9385132986\n"
     ]
    }
   ],
   "source": [
    "import numpy as np\n",
    "\n",
    "with open('advent_5.test.txt', 'r') as f:\n",
    "    data = [x.strip() for x in f.readlines()]\n",
    "n, k = [int(x) for x in data[0].split()]\n",
    "options = [x.split() for x in data[1:]]\n",
    "options_len = [len(x) for x in options]\n",
    "options_prod = [np.prod(options_len[i:]) for i in range(n)]\n",
    "x = 0\n",
    "x_indices = []\n",
    "i = 1\n",
    "while k > 0 and i < n:\n",
    "    idx = k // options_prod[i]\n",
    "    k -= options_prod[i] * idx\n",
    "    x_indices.append(idx)\n",
    "    i += 1\n",
    "x_indices.append(k - 1)\n",
    "result = ''.join([options[i][x_indices[i]] for i in range(n)])\n",
    "print(result)"
   ]
  },
  {
   "cell_type": "markdown",
   "id": "3bc0a82b-bb06-4f3c-9265-de0233fe0982",
   "metadata": {},
   "source": [
    "# Day 4, Task 1"
   ]
  },
  {
   "cell_type": "markdown",
   "id": "9bba2527-ddfe-4349-83d8-33af27fc45a9",
   "metadata": {},
   "source": [
    "Ай, я на что-то наступил! Кажется, это квадрокоптер моего брата, даже пульт управления есть!\n",
    "\n",
    "Слушай, у меня есть идея. Я погуглил и нашел на Ютубе вот такое чучело, делается из простыней, маски и коптера. Я пока его построю, а ты помоги разобраться с управлением коптера. У моего брата есть планшет, я запрограммирую, как ты скажешь.\n",
    "\n",
    "Смотри, я написал план движения коптера символами L, R, D, U (команды ВЛЕВО, ВПРАВО, НАЗАД, ВПЕРЕД)\n",
    "\n",
    "За одну команду коптер двигается на 10 сантиметров в указанном направлении. Но проблема в том, что я написал слишком длинно. Можно ли «пожать» эту команду, чтобы все было короче, но коптер в итоге переместился туда же?\n",
    "\n",
    "Сейчас пришлю команду файликом. Можешь среди всех пожатых команд прислать лексикографически минимальную? Это такая, где буквы отсортированы по возрастанию, как в словаре."
   ]
  },
  {
   "cell_type": "code",
   "execution_count": 6,
   "id": "418f25e1-9aa5-4b5d-8069-a57a93c8c639",
   "metadata": {},
   "outputs": [
    {
     "data": {
      "text/plain": [
       "Counter({'R': 2508, 'L': 2487, 'U': 2498, 'D': 2507})"
      ]
     },
     "execution_count": 6,
     "metadata": {},
     "output_type": "execute_result"
    }
   ],
   "source": [
    "from collections import Counter\n",
    "\n",
    "with open('advent_6.test.txt', 'r') as f:\n",
    "    data = f.read()\n",
    "counts = Counter(data)\n",
    "counts"
   ]
  },
  {
   "cell_type": "code",
   "execution_count": 7,
   "id": "4619aec7-e863-4129-b6cf-014952414fec",
   "metadata": {},
   "outputs": [
    {
     "name": "stdout",
     "output_type": "stream",
     "text": [
      "DDDDDDDDDRRRRRRRRRRRRRRRRRRRRR\n"
     ]
    }
   ],
   "source": [
    "result = (counts['D'] - counts['U']) * 'D' + (counts['R'] - counts['L']) * 'R'\n",
    "print(result)"
   ]
  },
  {
   "cell_type": "markdown",
   "id": "a843295f-f459-40b2-8446-c8732d907cb3",
   "metadata": {},
   "source": [
    "# Day 5, Task 1"
   ]
  },
  {
   "cell_type": "markdown",
   "id": "ec73c026-ad6f-4282-b565-6457f1649864",
   "metadata": {},
   "source": [
    "Короче, план такой (на сегодня у нас 2 задачи):\n",
    "\n",
    "1. На дверь наклеим мамину ацетатную пленку на уровне лица, намажем ее клеем.\n",
    "2. Когда у бандитов станет липкое лицо, включим вентилятор и отправим на них целую волну пуха. Пух я положу перед вентилятором на высоте лица. Можешь помочь с клеем, пожалуйста?\n",
    "\n",
    "Тут на самом деле целый мешок банок с клеем, надо разобраться, какой будет самым липким 😈 Они все пронумерованы, просто скажи мне номер нужной баночки. Можешь вычислить? Либо можно расшифровать записи отца из шкафа в подвале.\n",
    "\n",
    "Смотри, тут на каждой баночке с клеем написаны номера нескольких баночек, которые будут более липкими, чем имеющаяся. Надо найти баночку с самым липким содержимым. Можешь посчитать сумму номеров баночек, которые надо проверить?\n",
    "\n",
    "Тут всего 50000 баночек, вот файл со всеми данными. В строках после первой (таких строк будет ровно 50000) будет написано сначала количество банок в строке (обозначим за m), а затем m чисел через пробел. Каждое из чисел k в i-й строке означает, что банка с номером i менее липкая, чем банка с номером k."
   ]
  },
  {
   "cell_type": "code",
   "execution_count": 8,
   "id": "05667158-0174-40d9-8dac-d30081aa6085",
   "metadata": {},
   "outputs": [
    {
     "name": "stdout",
     "output_type": "stream",
     "text": [
      "4387488\n"
     ]
    }
   ],
   "source": [
    "with open('advent_7.test.txt', 'r') as f:\n",
    "    data = [x.strip() for x in f.readlines()]\n",
    "n = int(data[0])\n",
    "jar_info = [[int(y) for y in x.split()] for x in data[1:]]\n",
    "result = 0\n",
    "for i in range(n):\n",
    "    if jar_info[i][0] == 0:\n",
    "        result += i + 1\n",
    "print(result)"
   ]
  },
  {
   "cell_type": "markdown",
   "id": "66f22aa0-3e58-44a7-bf25-3bf14fef68b2",
   "metadata": {},
   "source": [
    "# Day 5, Task 2"
   ]
  },
  {
   "cell_type": "markdown",
   "id": "46f64a36-5ff0-4f12-9ec8-eaa3f1e3cf2c",
   "metadata": {},
   "source": [
    "Осталось включить вентилятор через специальный пульт. Он довольно непростой: буквы набираются с помощью многократного нажатия на одну и ту же кнопку.\n",
    "\n",
    "Я нашел на обратной стороне бумажку: там последовательность кнопок-нажатий, но не сказано, в какой момент нужно завершать каждый символ.\n",
    "\n",
    "Если ты не помнишь, как работают кнопочные пульты: при многократном нажатии на кнопку символ переключается на следующий. 2 -> A, 22 -> B, 222 -> C. Символа, соответствующего нажатиям 2222, нет, это уже будет несколько символов подряд (например 22 + 22 -> BB, или 2 + 222 -> AC).\n",
    "\n",
    "Думаю, что последовательность 222 может означать как строку AAA, так и строку C. Я точно знаю, что код — это самая короткая строка, которая подходит под последовательность нажатий, а среди самых коротких — самая лексикографически минимальная (например, строка AC лексикографически меньше строки CA, потому что в словаре она встретится раньше).\n",
    "\n",
    "Можешь посчитать мне? Я сейчас скину последовательность нажатий."
   ]
  },
  {
   "cell_type": "code",
   "execution_count": 9,
   "id": "926ddb77-7d61-4111-b2b7-37e92a8ee6ec",
   "metadata": {},
   "outputs": [
    {
     "name": "stdout",
     "output_type": "stream",
     "text": [
      "GTQJTGJUADAPJQATPNXPXTMWHPGAWGUPJLWMUGBEJAWMGDTMDPGDPATPHADJGWJAWQDKEFPATDPNWPATAWPHPALGJPGPJPMJGTPNPXJACQADTPTPDJQDMJADTQAWTMXTMTDWTMPWPDTGPHIJTJAMWPWNJMDAGDGATDMJPAKTKMDGMJADMHJL\n"
     ]
    }
   ],
   "source": [
    "def check_letter(data, i, len_consecutive, result):\n",
    "    curr_num = data[i]\n",
    "    if len_consecutive == 1:\n",
    "        curr_letter = num2letter[curr_num][0]\n",
    "    elif len_consecutive == 2:\n",
    "        curr_letter = num2letter[curr_num][1]\n",
    "    elif len_consecutive == 3:\n",
    "        curr_letter = num2letter[curr_num][2]\n",
    "    elif len_consecutive == 4:\n",
    "        if len(num2letter[curr_num]) == 4:\n",
    "            curr_letter = num2letter[curr_num][3]\n",
    "        else:\n",
    "            curr_letter = num2letter[curr_num][0] + num2letter[curr_num][2]\n",
    "    elif len_consecutive == 5:\n",
    "        if len(num2letter[curr_num]) == 4:\n",
    "            curr_letter = num2letter[curr_num][0] + num2letter[curr_num][3]\n",
    "        else:\n",
    "            curr_letter = num2letter[curr_num][1] + num2letter[curr_num][2]\n",
    "    else:\n",
    "        raise ValueError\n",
    "#     print(f'Consecutive length of number {curr_num} is {len_consecutive}. Corresponding letter values: {num2letter[curr_num]}. Chosen: {curr_letter}')\n",
    "    len_consecutive = 1\n",
    "    i += 1\n",
    "    result += curr_letter\n",
    "    return i, len_consecutive, result\n",
    "    \n",
    "\n",
    "num2letter = {2: 'ABC', 3: 'DEF', 4: 'GHI', 5: 'JKL', 6: 'MNO', 7: 'PQRS', 8: 'TUV', 9: 'WXYZ'}\n",
    "\n",
    "with open('advent_8.test.txt', 'r') as f:\n",
    "    data = [int(x) for x in f.read()]\n",
    "\n",
    "n = len(data)\n",
    "i = 0\n",
    "result = ''\n",
    "len_consecutive = 1\n",
    "while i < n:\n",
    "    if i == n - 1:\n",
    "        i, len_consecutive, result = check_letter(data, i, len_consecutive, result)\n",
    "    else:\n",
    "        if data[i] != data[i + 1]:\n",
    "            i, len_consecutive, result = check_letter(data, i, len_consecutive, result)\n",
    "        else:\n",
    "            len_consecutive += 1\n",
    "            i += 1\n",
    "\n",
    "print(result)"
   ]
  },
  {
   "cell_type": "markdown",
   "id": "1788ccb3-3213-47dd-9114-5bf2198ab848",
   "metadata": {},
   "source": [
    "# Day 6, Task 1"
   ]
  },
  {
   "cell_type": "markdown",
   "id": "54972b2b-bdad-41e5-a16c-5a7522987050",
   "metadata": {},
   "source": [
    "Слушай, я тут нашел умный распылитель жидкости для ванной комнаты. Давай его вот сюда поставим и подключим к двери, чтобы он распылял на входящего при открытии двери.\n",
    "\n",
    "Ты пока хакни распылитель, я туда залью дезодоранты Базза ☠️\n",
    "\n",
    "Так, как хакнуть распылитель. \n",
    "\n",
    "Для включения надо в правильном порядке поставить в него батарейки. Всего есть 10000 батареек. У каждой батарейки есть свое требование: после батарейки с номером i можно подключить к распылителю только батарейку с номером p_i.\n",
    "\n",
    "Можно быть уверенным, что все числа от 1 до N встречаются в p по одному разу. Тебе нужно найти длину самой большой имеющейся цепочки батареек, которую можно по очереди вставить в распылитель.\n",
    "\n",
    "Вот, держи данные. Там в строке вводится 10000 чисел p_i через пробел."
   ]
  },
  {
   "cell_type": "code",
   "execution_count": 10,
   "id": "879abb49-6f7b-485d-b744-577421863704",
   "metadata": {},
   "outputs": [
    {
     "name": "stdout",
     "output_type": "stream",
     "text": [
      "8564\n"
     ]
    }
   ],
   "source": [
    "def find_chain(i, batteries, batteries_used):\n",
    "    curr_i = i\n",
    "    curr_len = 0\n",
    "    chain = [curr_i + 1]\n",
    "    while True:\n",
    "        curr_i = batteries[curr_i] - 1\n",
    "        curr_len += 1\n",
    "        batteries_used.add(batteries[curr_i])\n",
    "        if curr_i == i:\n",
    "            break\n",
    "        chain.append(curr_i + 1)\n",
    "#     print(f'Found chain with length {curr_len}: {chain}')\n",
    "    return curr_len, batteries_used\n",
    "    \n",
    "\n",
    "with open('advent_9.test.txt', 'r') as f:\n",
    "    data = [x.strip() for x in f.readlines()]\n",
    "n = int(data[0])\n",
    "batteries = [int(x) for x in data[1].split()]\n",
    "batteries_used = set()\n",
    "max_len = 0\n",
    "for i in range(n):\n",
    "    if i + 1 not in batteries_used:\n",
    "        curr_len, batteries_used = find_chain(i, batteries, batteries_used)\n",
    "        if curr_len > max_len:\n",
    "            max_len = curr_len\n",
    "print(max_len)"
   ]
  },
  {
   "cell_type": "markdown",
   "id": "1963bf6e-f311-47a7-96a5-c6269ff41408",
   "metadata": {},
   "source": [
    "# Day 7, Task 1"
   ]
  },
  {
   "cell_type": "markdown",
   "id": "bdef137e-6948-4103-8cba-1e50bc457338",
   "metadata": {},
   "source": [
    "Кажется, я в самой интересной комнате в доме. Так, смотрим на план помещения.\n",
    "\n",
    "Слушай, да, все работает, и все через умный дом. Проблема в том, что это последний этаж дома и мне некуда больше бежать 😨 Эх, если бы в моем доме была потайная лестница.\n",
    "\n",
    "В окне справа мой домик на дереве, он чуть пониже дома. Давай зиплайн построим?\n",
    "\n",
    "Я нашел кусок дерева. Из него можно вырезать основную деталь для зиплайна. Надо рассчитать, как вырезать прямоугольник максимально возможной площади.\n",
    "\n",
    "Имеющийся кусок дерева состоит из N склеенных по боковым сторонам прямоугольников одинаковой ширины, но разной длины (длина i-го куска равна h_i).\n",
    "\n",
    "Всего 1000 кусков, дальше в файле длина каждого куска. Можешь мне написать, какой площади у меня получится деталь?"
   ]
  },
  {
   "cell_type": "code",
   "execution_count": 11,
   "id": "2c6dadf6-94e5-4f29-8105-5deeb7939846",
   "metadata": {},
   "outputs": [
    {
     "name": "stdout",
     "output_type": "stream",
     "text": [
      "14736\n"
     ]
    }
   ],
   "source": [
    "from collections import defaultdict\n",
    "\n",
    "with open('advent_10.test.txt', 'r') as f:\n",
    "    data = [x.strip() for x in f.readlines()]\n",
    "n = int(data[0])\n",
    "wood = [int(x) for x in data[1].split()]\n",
    "height_dict = defaultdict(list)\n",
    "for i in range(n):\n",
    "    height_dict[wood[i]].append(i)\n",
    "height_list = sorted(height_dict.items(), key=lambda x: x[0])\n",
    "result = height_list[0][0] * n\n",
    "idx_blocked = []\n",
    "for i in range(len(height_list) - 1):\n",
    "    height, height_indices = height_list[i + 1][0], height_list[i][1]\n",
    "    for h_idx in height_indices:\n",
    "        idx_blocked = [x for x in idx_blocked if x < h_idx] + [h_idx] + [x for x in idx_blocked if x > h_idx]\n",
    "    i_start = 0\n",
    "    for i_end in idx_blocked:\n",
    "        curr_area = height * (i_end - i_start)\n",
    "        if curr_area > result:\n",
    "            result = curr_area\n",
    "        i_start = i_end + 1\n",
    "    i_end = n\n",
    "    curr_area = height * (i_end - i_start)\n",
    "    if curr_area > result:\n",
    "        result = curr_area\n",
    "print(result)"
   ]
  },
  {
   "cell_type": "markdown",
   "id": "81390209-5a78-4009-af1d-77ca3dc1fb41",
   "metadata": {},
   "source": [
    "# Day 8, Task 1"
   ]
  },
  {
   "cell_type": "markdown",
   "id": "20f614dd-77d9-455c-946e-639fd30dd4b5",
   "metadata": {},
   "source": [
    "Ну, значит, бандиты должны быть в ужасе ☠️ План такой. Надо запрогать умный дом так, чтобы:\n",
    "\n",
    "1. Сначала выключался свет.\n",
    "2. Потом внезапно скример на телевизоре.\n",
    "3. Потом камин загорается и начинает ЖАРИТЬ огнем.\n",
    "4. Затем скачет свет.\n",
    "\n",
    "Я тогда прыгну на зиплайн и поеду!\n",
    "\n",
    "Так, я придумал 5000 скримеров, осталось понять, в каком порядке их нужно включать.\n",
    "\n",
    "Для каждого скримера есть информация, каких скримеров нужно запустить перед ним, чтобы получилось максимально страшно 😱. Я записал ее в отдельный файл. В файле все по порядку: будет 5000 строчек описания, в каждой сначала идет число K — количество скримеров, которые надо запустить перед i-м, после чего еще K чисел через пробел — номера этих скримеров.\n",
    "\n",
    "Вот, лови файлы.\n",
    "\n",
    "Я хотел 5000 раз запускать такого скримера, который не был запущен раньше, а его номер среди всех доступных скримеров был минимален. Будет гораздо удобнее, если ты построишь последовательность из номеров для такого запуска, чтобы мне не пришлось просчитывать ее самому.\n",
    "\n",
    "Чтобы зря не присылать все 5000 чисел, я попрошу у тебя сумму i * a_i в такой последовательности (загляни в пример, чтобы было понятнее!). Дальше я уже как-нибудь восстановлю последовательность!"
   ]
  },
  {
   "cell_type": "code",
   "execution_count": 12,
   "id": "2e929d5f-c5e1-4f9a-9e6f-9195eab200df",
   "metadata": {},
   "outputs": [
    {
     "name": "stdout",
     "output_type": "stream",
     "text": [
      "31953839326\n"
     ]
    }
   ],
   "source": [
    "from collections import defaultdict\n",
    "\n",
    "with open('advent_11.test.txt', 'r') as f:\n",
    "    data = [x.strip() for x in f.readlines()]\n",
    "n = int(data[0])\n",
    "screamers_info = [[int(y) for y in x.split()] for x in data[1:]]\n",
    "screamers_depend, screamers_affect = defaultdict(set), defaultdict(set)\n",
    "for i_screamer in range(n):\n",
    "    for i_screamer_connected in screamers_info[i_screamer][1:]:\n",
    "        screamers_depend[i_screamer].add(i_screamer_connected - 1)\n",
    "        screamers_affect[i_screamer_connected - 1].add(i_screamer)\n",
    "screamers_available = set([i for i in range(n) if screamers_info[i][0] == 0])\n",
    "result = 0\n",
    "cnt = 0\n",
    "while len(screamers_available) > 0:\n",
    "    i_screamer_curr = min(screamers_available)\n",
    "    screamers_available.remove(i_screamer_curr)\n",
    "    cnt += 1\n",
    "    result += cnt * (i_screamer_curr + 1)\n",
    "    for i_screamer_affected in screamers_affect[i_screamer_curr]:\n",
    "        screamers_depend[i_screamer_affected].remove(i_screamer_curr)\n",
    "        if len(screamers_depend[i_screamer_affected]) == 0:\n",
    "            screamers_available.add(i_screamer_affected)\n",
    "print(result)"
   ]
  },
  {
   "cell_type": "markdown",
   "id": "9d2ca829-9542-48af-a816-6b635849990e",
   "metadata": {},
   "source": [
    "# Day 9, Task 1"
   ]
  },
  {
   "cell_type": "markdown",
   "id": "a1bcdfb8-0553-429b-ac97-8ff41e7b7dbf",
   "metadata": {},
   "source": [
    "Привет, я у дяди и тети. Мне кажется, они не заметили, в какой я дом забежал, но лучше подготовиться. Пойду постараюсь закрыть дверь, надеюсь, сработает.\n",
    "\n",
    "Готово, я забаррикадировал первый этаж, но подвал снова может быть слабой точкой.\n",
    "\n",
    "Я слышу бандитов! Помоги запереть двери! Я слышал, как дядя говорил папе, что дом зашифрован с помощью алгоритма RSA. И что он оставил бэкдор: ключ — максимальное четырнадцатизначное число, которое является произведением двух простых чисел, разница между которыми не превосходит 100. Если ты найдешь его, то я спасен 🥺"
   ]
  },
  {
   "cell_type": "code",
   "execution_count": 13,
   "id": "d8b870bd-d4c5-42f9-9d71-7271f766d0cb",
   "metadata": {},
   "outputs": [
    {
     "name": "stderr",
     "output_type": "stream",
     "text": [
      "  0%|          | 1028/6838723 [00:00<1:29:07, 1278.59it/s]"
     ]
    },
    {
     "name": "stdout",
     "output_type": "stream",
     "text": [
      "(99999919999487, 10000019, 9999973)\n"
     ]
    },
    {
     "name": "stderr",
     "output_type": "stream",
     "text": [
      "\n"
     ]
    }
   ],
   "source": [
    "from tqdm import tqdm\n",
    "\n",
    "def is_prime(n):\n",
    "    if n == 2:\n",
    "        return True\n",
    "    if n % 2 == 0 or n <= 1:\n",
    "        return False\n",
    "\n",
    "    sqrt = int(n ** 0.5) + 1\n",
    "\n",
    "    for divisor in range(3, sqrt, 2):\n",
    "        if n % divisor == 0:\n",
    "            return False\n",
    "    return True\n",
    "\n",
    "\n",
    "def find_result(power):\n",
    "    start = int((10 ** (power - 1)) ** 0.5)\n",
    "    end = int((10 ** power + 99) ** 0.5)\n",
    "    results = []\n",
    "    for p in tqdm(range(end + 10**3, start, -1)):\n",
    "        if len(results) > 0:\n",
    "            if p < results[0][2]:\n",
    "                return max(results, key=lambda x: x[0])\n",
    "        for i in range(0, 101):\n",
    "            q = p - i\n",
    "            if p > 0 and q > 0 and is_prime(p) and is_prime(q) and p * q // 10 ** power == 0:\n",
    "                results.append((p * q, p, q))\n",
    "    return max(results, key=lambda x: x[0])\n",
    "\n",
    "# result = find_result(\n",
    "#     start=int((10 ** 13) ** 0.5),\n",
    "#     end=int((10 ** 14 - 1) ** 0.5)\n",
    "# )\n",
    "result = find_result(14)\n",
    "print(result)"
   ]
  },
  {
   "cell_type": "markdown",
   "id": "3ad8b17c-1a47-4b25-a99c-a3055d697879",
   "metadata": {},
   "source": [
    "# Day 10, Task 1"
   ]
  },
  {
   "cell_type": "markdown",
   "id": "43d38380-8498-4f2e-ac65-5d9b9e7a3935",
   "metadata": {},
   "source": [
    "У моей мамы есть личный номер нашего участкового, но он где-то в телефонной книге. Могу показать запись, если ты сможешь его найти.\n",
    "\n",
    "Так, вот мамина телефонная книга.\n",
    "\n",
    "На обратной стороне написано, что участковый это «7493-й по возрастанию номер телефона, если сделать сортировку номеров как десятисимвольных строк (то есть без кода страны, и других символов, кроме цифр)».\n",
    "\n",
    "Присылай прямо в том формате, как было написано."
   ]
  },
  {
   "cell_type": "code",
   "execution_count": 14,
   "id": "67e5953a-095f-450b-a664-bd03f959d961",
   "metadata": {},
   "outputs": [
    {
     "name": "stdout",
     "output_type": "stream",
     "text": [
      "+77776841284\n"
     ]
    }
   ],
   "source": [
    "with open('advent_13.test.txt', 'r') as f:\n",
    "    data = [x.strip() for x in f.readlines()]\n",
    "n, k = int(data[0].split()[0]), int(data[0].split()[1])\n",
    "numbers_original = data[1:]\n",
    "numbers_cleaned = [int(''.join([s for s in x if s.isdigit()])[1:]) for x in numbers_original]\n",
    "numbers_sorted = sorted([(i, x) for i, x in enumerate(numbers_cleaned)], key=lambda x: x[1])\n",
    "result = numbers_original[numbers_sorted[k - 1][0]]\n",
    "print(result)"
   ]
  },
  {
   "cell_type": "markdown",
   "id": "3996cbfa-608b-46c2-9904-d4243a17c8f7",
   "metadata": {},
   "source": [
    "# Day 11, Task 1"
   ]
  },
  {
   "cell_type": "markdown",
   "id": "52413a39-4cb3-47c1-8cea-5303240816e0",
   "metadata": {},
   "source": [
    "У меня плохие новости. Дверь подвала сломана, она открывается. Подвал совсем крошечный, я пытаюсь перерыть полки, но тут сплошной хлам, ничего нет.\n",
    "\n",
    "Нашел скотч, веревки и спички, страшную маску клоуна. Пока не очень складывается, что из этого можно сделать.\n",
    "\n",
    "Да, шкаф закрыт. Сейчас поищу, нет ли где подсказки.\n",
    "\n",
    "Нашел!\n",
    "Вот что написано на задней стенке: \n",
    "1. Пароль от шкафа состоит из 100 латинских букв.\n",
    "2. Шкаф разблокирует комбинация символов, которая удовлетворяет 777 ограничениям.\n",
    "3. Каждое ограничение — это запрещенное значение для какого-то символа.\n",
    "\n",
    "Нужно найти медианный пароль — это такой пароль, где каждый символ является медианой из доступных символов для этой позиции. Медиана — это минимальный из таких элементов множества, что хотя бы 50% элементов множества не больше медианы.\n",
    "\n",
    "Опять ничего не понял, но высылаю тебе файл с запрещенными символами. Там 777 ограничений, число и символ — позиция и запрещенный символ для этой позиции. Присылай мне сразу код, я буду пытаться ввести."
   ]
  },
  {
   "cell_type": "code",
   "execution_count": 15,
   "id": "f0dbcf3e-bbbc-4841-b69b-88e03e6d2b58",
   "metadata": {},
   "outputs": [
    {
     "name": "stdout",
     "output_type": "stream",
     "text": [
      "MKLNLOMMLMLLMMMJPONNINLMMHMONMLNLPLNKMKMKPMKNNKKNMMNONLLMONKPONMNMKMMNMONLPMKMOOONKNGNHLOJPNKJJQMMMM\n"
     ]
    }
   ],
   "source": [
    "from collections import defaultdict\n",
    "\n",
    "with open('advent_14.test.txt', 'r') as f:\n",
    "    data = [x.strip() for x in f.readlines()]\n",
    "n, k = int(data[0].split()[0]), int(data[0].split()[1])\n",
    "restricted_symbols = defaultdict(str)\n",
    "for restriction in data[1:]:\n",
    "    restriction = restriction.split()\n",
    "    i, letter = int(restriction[0]), restriction[1]\n",
    "    restricted_symbols[i] += letter\n",
    "result = ''\n",
    "for i in range(n):\n",
    "    available_symbols = 'ABCDEFGHIJKLMNOPQRSTUVWXYZ'\n",
    "    for s in restricted_symbols[i + 1]:\n",
    "        available_symbols = available_symbols.replace(s, '')\n",
    "    m = len(available_symbols)\n",
    "    if m % 2 == 0:\n",
    "        i_median = m // 2 - 1\n",
    "    else:\n",
    "        i_median = m // 2\n",
    "    median_symbol = available_symbols[i_median]\n",
    "    result += median_symbol\n",
    "print(result)"
   ]
  },
  {
   "cell_type": "markdown",
   "id": "8b701054-fd53-46d1-88cf-284576a82650",
   "metadata": {},
   "source": [
    "# Day 12, Task 1"
   ]
  },
  {
   "cell_type": "markdown",
   "id": "0c49c2d8-c5ca-4fb0-8c3a-ace1cbdf9e2e",
   "metadata": {},
   "source": [
    "Так, я съел все запасы сладкого на кухне. Вот, кстати, схема комнаты. Может, мне стоит включить газ?\n",
    "\n",
    "Ок, под мойкой есть большая бутылка с надписью kerosene. Смотрю холодильник, за ним куча картонных коробок. О, и робот-пылесос! Да тут сотня яиц внутри холодильника!\n",
    "\n",
    "У дяди чуть менее продвинутая система, но думаю, еще полчаса у нас есть, пока они подбирают пароль к двери.\n",
    "\n",
    "Я придумал план. Давай повесим коробки с яйцами по всей длине балки. Дно коробок заклеим бумажным скотчем. Затем приклеим кончик к роботу-пылесосу, он поедет и откроет все коробки.\n",
    "\n",
    "Лови. Я измерил расстояние от двери до двери, робот должен проехать ровно 10,5 метра с максимальной скоростью. Дядя расставил датчики по комнате, они смогут трековать расстояние до пылесоса.\n",
    "\n",
    "У нас есть 223 датчика в двумерном пространстве. Давай расстоянием между точками (x1, y1) и (x2, y2) назовем |x1 − x2| + |y1 − y2|. Нужно найти точку, в которой суммарное расстояние от нее до всех остальных датчиков одинаково. \n",
    "\n",
    "Если таких точек несколько, выбирай точку с минимальной суммой x + y. Присылай мне сумму x + y, как посчитаешь.\n",
    "\n",
    "Вот файлик с координатами."
   ]
  },
  {
   "cell_type": "code",
   "execution_count": 16,
   "id": "bdad06ba-4c55-4ca9-bde1-16b0405bba24",
   "metadata": {},
   "outputs": [
    {
     "name": "stdout",
     "output_type": "stream",
     "text": [
      "95590\n"
     ]
    }
   ],
   "source": [
    "with open('advent_15.test.txt', 'r') as f:\n",
    "    data = [x.strip() for x in f.readlines()]\n",
    "\n",
    "n = int(data[0])\n",
    "points = [x.split() for x in data[1:]]\n",
    "points = [(int(x), int(y)) for [x, y] in points]\n",
    "points_x_sorted = sorted([(i, x, y) for i, (x, y) in enumerate(points)], key=lambda x: x[1])\n",
    "points_y_sorted = sorted([(i, x, y) for i, (x, y) in enumerate(points)], key=lambda x: x[2])\n",
    "result = points_x_sorted[n // 2][1] + points_y_sorted[n // 2][2]\n",
    "print(result)"
   ]
  },
  {
   "cell_type": "markdown",
   "id": "9a9f6de5-b70a-4a61-abf9-b0a107b8b508",
   "metadata": {},
   "source": [
    "# Day 13, Task 1"
   ]
  },
  {
   "cell_type": "markdown",
   "id": "a789b2c3-0708-4fe4-9cd6-c29c9afae92e",
   "metadata": {},
   "source": [
    "Последняя комната, надо искать дальше пути отступления.\n",
    "\n",
    "Похоже на комнату моей двоюродной сестры. Замок тут вряд ли крепкий, придется торопиться.\n",
    "\n",
    "Шкаф не заперт. Так, тут есть кукла в мой рост, веревочная лестница..\n",
    "\n",
    "Подожди, тебе не кажется, что телевизор и картина одного размера??\n",
    "\n",
    "Давай я сниму рамку и вставлю в телевизор, а ты придумай, пожалуйста, как включить телевизор.\n",
    "\n",
    "Телевизор можно представить как прямоугольник в декартовой системе координат. Некоторые внутренние точки прямоугольника заблокированы для проводов, на них находятся крепления.\n",
    "Надо найти кратчайшую длину провода, которым можно соединить точки А и B. Провод можно прокладывать между точками с целыми координатами и только параллельно одной из осей координат.\n",
    "\n",
    "Вот, лови, как выглядит картина."
   ]
  },
  {
   "cell_type": "code",
   "execution_count": 38,
   "id": "a000ebde-3565-45f0-967c-5ee27bf6b3bc",
   "metadata": {},
   "outputs": [
    {
     "name": "stdout",
     "output_type": "stream",
     "text": [
      "4953\n"
     ]
    }
   ],
   "source": [
    "def is_point_valid(data, visited, k, m):\n",
    "    if data[k][m] in ['.', 'A', 'B'] and not visited[k][m]:\n",
    "        return True\n",
    "    else:\n",
    "        return False\n",
    "\n",
    "def bfs():\n",
    "    iter_num = 0\n",
    "    while queue:\n",
    "        iter_num += 1\n",
    "        cnt, (i, j) = queue.pop(0)\n",
    "        for i_delta, j_delta in possible_moves:\n",
    "            k, m = i + i_delta, j + j_delta\n",
    "            if k >= 0 and k < h and m >= 0 and m < w:\n",
    "                if is_point_valid(data, visited, k, m):\n",
    "                    if (k, m) == b_coord:\n",
    "                        return cnt + 1\n",
    "                    queue.append((cnt + 1, (k, m)))\n",
    "                    visited[k][m] = True\n",
    "\n",
    "with open('advent_16.test.txt', 'r') as f:\n",
    "    data_original = [x.strip() for x in f.readlines()]\n",
    "data = [x.split() for x in data_original]\n",
    "w, h = len(data[0]), len(data)\n",
    "visited = [[False for _ in range(w)] for _ in range(h)]\n",
    "possible_moves = [\n",
    "    (0, 1),\n",
    "    (0, -1),\n",
    "    (1, 0),\n",
    "    (-1, 0)\n",
    "]\n",
    "a_coord, b_coord = None, None\n",
    "for i in range(h):\n",
    "    for j in range(w):\n",
    "        if data[i][j] == 'A':\n",
    "            a_coord = (i, j)\n",
    "        elif data[i][j] == 'B':\n",
    "            b_coord = (i, j)\n",
    "        if a_coord and b_coord:\n",
    "            break\n",
    "i, j = a_coord\n",
    "queue = [(0, a_coord)]\n",
    "visited[i][j] = True\n",
    "\n",
    "cnt = bfs()\n",
    "print(cnt)\n",
    "\n",
    "# result = data.copy()\n",
    "# for i in range(h):\n",
    "#     for j in range(w):\n",
    "#         if visited[i][j]:\n",
    "#             result[i][j] = 'x'\n",
    "# print('\\n'.join([''.join(x) for x in result]))"
   ]
  },
  {
   "cell_type": "markdown",
   "id": "70fafe69-94f2-4618-b55f-c7c62132f7ef",
   "metadata": {},
   "source": [
    "# Day 14, Task 1"
   ]
  },
  {
   "cell_type": "markdown",
   "id": "6d6f0b77-b02a-4bd8-98b8-643bf74a61ae",
   "metadata": {},
   "source": [
    "Зацени, какой шедевр я собрал из куклы сестры. Пришлось постараться: я ее резал и сшивал.\n",
    "\n",
    "Сейчас скину доступ к роботу-пылесосу, именно на нем наша кукла поедет из тьмы на этих бандитов.\n",
    "\n",
    "Вот код программы робота-пылесоса.\n",
    "\n",
    "Тут убраны все команды, остались только скобки одного из трех видов: (){}[].\n",
    "\n",
    "Если скобки образуют правильную скобочную последовательность (для каждой открытой скобки есть закрывающая такого же типа, и наоборот), то это корректно работающий кусок кода.\n",
    "\n",
    "Функция — это такой корректный блок кода, который вложен в фигурные скобки, которые, в свою очередь, уже никуда не вложены. Чтобы включить пылесос, надо найти количество функций в коде. Скидывай мне числом, ок?"
   ]
  },
  {
   "cell_type": "code",
   "execution_count": 41,
   "id": "bb8f06e7-5f5e-4b68-bbeb-a2f965ff8875",
   "metadata": {},
   "outputs": [
    {
     "name": "stdout",
     "output_type": "stream",
     "text": [
      "1\n"
     ]
    }
   ],
   "source": [
    "with open('advent_17.test.txt', 'r') as f:\n",
    "    data = f.read()\n",
    "result = 0\n",
    "cnt_brackets = 0\n",
    "for s in data:\n",
    "    if s == '{':\n",
    "        cnt_brackets += 1\n",
    "    elif s == '}':\n",
    "        cnt_brackets -= 1\n",
    "        if cnt_brackets == 0:\n",
    "            result += 1\n",
    "print(result)"
   ]
  }
 ],
 "metadata": {
  "kernelspec": {
   "display_name": "Python 3",
   "language": "python",
   "name": "python3"
  },
  "language_info": {
   "codemirror_mode": {
    "name": "ipython",
    "version": 3
   },
   "file_extension": ".py",
   "mimetype": "text/x-python",
   "name": "python",
   "nbconvert_exporter": "python",
   "pygments_lexer": "ipython3",
   "version": "3.8.8"
  }
 },
 "nbformat": 4,
 "nbformat_minor": 5
}
